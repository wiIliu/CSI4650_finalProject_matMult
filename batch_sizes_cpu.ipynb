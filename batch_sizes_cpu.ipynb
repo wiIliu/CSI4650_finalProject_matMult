{
  "nbformat": 4,
  "nbformat_minor": 0,
  "metadata": {
    "colab": {
      "provenance": []
    },
    "kernelspec": {
      "name": "python3",
      "display_name": "Python 3"
    },
    "language_info": {
      "name": "python"
    }
  },
  "cells": [
    {
      "cell_type": "code",
      "execution_count": 2,
      "metadata": {
        "id": "FabgGZT7qFR-"
      },
      "outputs": [],
      "source": [
        "import torch\n",
        "import time\n",
        "import os"
      ]
    },
    {
      "cell_type": "code",
      "source": [
        "# function for naive matrix multiplication (single-threaded)\n",
        "def func_matmul(A, B):\n",
        "    batch_size, size, _ = A.shape\n",
        "    _, _, size_b = B.shape\n",
        "\n",
        "    # initialize result matrix C with zeros\n",
        "    C = torch.zeros(batch_size, size, size_b, device=A.device)\n",
        "\n",
        "    # loop through each batch\n",
        "    for b in range(batch_size):\n",
        "        for i in range(size):\n",
        "            for j in range(size_b):\n",
        "                C[b, i, j] = 0  # initialize the result for the position (i, j)\n",
        "                for k in range(size):\n",
        "                    C[b, i, j] += A[b, i, k] * B[b, k, j]\n",
        "\n",
        "    return C"
      ],
      "metadata": {
        "id": "a3WYO6TkqTLG"
      },
      "execution_count": 3,
      "outputs": []
    },
    {
      "cell_type": "code",
      "source": [
        "# function for single-threaded matrix multiplication\n",
        "def single_threaded_matmul(batch_size, size, device):\n",
        "    # create random square matrices A and B\n",
        "    A = torch.randn(batch_size, size, size, device=device)\n",
        "    B = torch.randn(batch_size, size, size, device=device)\n",
        "\n",
        "    # perform matrix multiplication\n",
        "    start_time = time.time()\n",
        "    C = func_matmul(A, B)\n",
        "    end_time = time.time()\n",
        "\n",
        "    return end_time - start_time"
      ],
      "metadata": {
        "id": "PTlpWieWqYb3"
      },
      "execution_count": 4,
      "outputs": []
    },
    {
      "cell_type": "code",
      "source": [
        "# function for multi-threaded matrix multiplication\n",
        "def multi_threaded_matmul(batch_size, size, num_threads, device):\n",
        "    # set the number of threads for parallelization\n",
        "    torch.set_num_threads(num_threads)\n",
        "\n",
        "    A = torch.randn(batch_size, size, size, device=device)\n",
        "    B = torch.randn(batch_size, size, size, device=device)\n",
        "\n",
        "    start_time = time.time()\n",
        "    C = func_matmul(A, B)\n",
        "    end_time = time.time()\n",
        "\n",
        "    return end_time - start_time"
      ],
      "metadata": {
        "id": "dbsu4bRbqYoP"
      },
      "execution_count": 5,
      "outputs": []
    },
    {
      "cell_type": "code",
      "source": [
        "# main function to run experiments with varying batch sizes\n",
        "def run_experiment():\n",
        "    batch_sizes = [1, 10, 50, 100, 500]  # batch sizes to test\n",
        "    matrix_size = 64  # size of the square matrix\n",
        "\n",
        "    num_threads_list = [2, 4]  # number of threads to test for parallelization\n",
        "\n",
        "    # force computation to run on CPU\n",
        "    device = torch.device('cpu')\n",
        "\n",
        "    # for each batch size, test single-threaded vs parallelized\n",
        "    for batch_size in batch_sizes:\n",
        "        print(f\"\\nBatch Size: {batch_size}\")\n",
        "\n",
        "        # single-threaded test\n",
        "        single_time = single_threaded_matmul(batch_size, matrix_size, device)\n",
        "        print(f\"Single-threaded time: {single_time:.4f} seconds\")\n",
        "\n",
        "        # parallelized test for different numbers of threads\n",
        "        for num_threads in num_threads_list:\n",
        "            parallel_time = multi_threaded_matmul(batch_size, matrix_size, num_threads, device)\n",
        "            print(f\"Multi-threaded ({num_threads} threads) time: {parallel_time:.4f} seconds\")\n",
        "\n",
        "        print(\"-\" * 50)"
      ],
      "metadata": {
        "id": "rDrOLvMUqdRp"
      },
      "execution_count": 6,
      "outputs": []
    },
    {
      "cell_type": "code",
      "source": [
        "if __name__ == \"__main__\":\n",
        "  run_experiment()"
      ],
      "metadata": {
        "id": "jegAF5Jmqgtp",
        "outputId": "4ea632cc-0141-4063-c23a-f483681ee1c9",
        "colab": {
          "base_uri": "https://localhost:8080/"
        }
      },
      "execution_count": null,
      "outputs": [
        {
          "output_type": "stream",
          "name": "stdout",
          "text": [
            "\n",
            "Batch Size: 1\n"
          ]
        }
      ]
    }
  ]
}