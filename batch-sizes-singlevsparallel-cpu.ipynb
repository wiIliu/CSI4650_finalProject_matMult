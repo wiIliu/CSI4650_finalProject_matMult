{
 "cells": [
  {
   "cell_type": "code",
   "execution_count": 1,
   "id": "2e948ada-f5cc-4849-a1be-45a3b9dc6f70",
   "metadata": {},
   "outputs": [],
   "source": [
    "import torch \n",
    "import time\n",
    "import os"
   ]
  },
  {
   "cell_type": "code",
   "execution_count": 2,
   "id": "151247bf-c0b3-4147-bdc1-a06e799bc3a2",
   "metadata": {},
   "outputs": [],
   "source": [
    "# function for single-threaded matrix multiplication\n",
    "def single_threaded_matmul(batch_size, size, device):\n",
    "    # Create random matrices\n",
    "    A = torch.randn(batch_size, size, size, device=device)\n",
    "    B = torch.randn(batch_size, size, size, device=device)\n",
    "    \n",
    "    # perform matrix multiplication (single-threaded)\n",
    "    start_time = time.time()\n",
    "    C = torch.matmul(A, B)\n",
    "    end_time = time.time()\n",
    "    \n",
    "    return end_time - start_time"
   ]
  },
  {
   "cell_type": "code",
   "execution_count": 3,
   "id": "62a9c67c-a54d-49b7-b096-d6716e4c2f38",
   "metadata": {},
   "outputs": [],
   "source": [
    "# function for multi-threaded matrix multiplication\n",
    "def multi_threaded_matmul(batch_size, size, num_threads, device):\n",
    "    # set the number of threads for parallelization\n",
    "    torch.set_num_threads(num_threads)\n",
    "    \n",
    "    # create random matrices\n",
    "    A = torch.randn(batch_size, size, size, device=device)\n",
    "    B = torch.randn(batch_size, size, size, device=device)\n",
    "    \n",
    "    # perform matrix multiplication (multi-threaded)\n",
    "    start_time = time.time()\n",
    "    C = torch.matmul(A, B)\n",
    "    end_time = time.time()\n",
    "    \n",
    "    return end_time - start_time"
   ]
  },
  {
   "cell_type": "code",
   "execution_count": 4,
   "id": "df3fd396-b0ca-4534-97cb-219eebc5fefa",
   "metadata": {},
   "outputs": [],
   "source": [
    "# main function to run experiments with varying batch sizes\n",
    "def run_experiment():\n",
    "    batch_sizes = [1, 10, 50, 100, 500, 1000, 10000]  # batch sizes to test\n",
    "    matrix_size = 512  # size of the square matrix (e.g., 512x512)\n",
    "    \n",
    "    num_threads_list = [1, 2, 4, 8, 10]  # number of threads to test for parallelization\n",
    "\n",
    "    # force the computation to run on CPU\n",
    "    device = torch.device('cpu')\n",
    "    \n",
    "    # for each batch size, test single-threaded vs parallelized\n",
    "    for batch_size in batch_sizes:\n",
    "        print(f\"\\nBatch Size: {batch_size}\")\n",
    "        \n",
    "        # single-threaded test\n",
    "        single_time = single_threaded_matmul(batch_size, matrix_size, device)\n",
    "        print(f\"Single-threaded time: {single_time:.4f} seconds\")\n",
    "        \n",
    "        # parallelized test for different numbers of threads\n",
    "        for num_threads in num_threads_list:\n",
    "            parallel_time = multi_threaded_matmul(batch_size, matrix_size, num_threads, device)\n",
    "            print(f\"Multi-threaded ({num_threads} threads) time: {parallel_time:.4f} seconds\")\n",
    "            \n",
    "        print(\"-\" * 50)"
   ]
  },
  {
   "cell_type": "code",
   "execution_count": 5,
   "id": "c75d8904-4eb4-4487-b984-54f1d3b1c20e",
   "metadata": {},
   "outputs": [
    {
     "name": "stdout",
     "output_type": "stream",
     "text": [
      "\n",
      "Batch Size: 1\n",
      "Single-threaded time: 0.0060 seconds\n",
      "Multi-threaded (1 threads) time: 0.0011 seconds\n",
      "Multi-threaded (2 threads) time: 0.0003 seconds\n",
      "Multi-threaded (4 threads) time: 0.0004 seconds\n",
      "Multi-threaded (8 threads) time: 0.0003 seconds\n",
      "Multi-threaded (10 threads) time: 0.0003 seconds\n",
      "--------------------------------------------------\n",
      "\n",
      "Batch Size: 10\n",
      "Single-threaded time: 0.0033 seconds\n",
      "Multi-threaded (1 threads) time: 0.0030 seconds\n",
      "Multi-threaded (2 threads) time: 0.0026 seconds\n",
      "Multi-threaded (4 threads) time: 0.0026 seconds\n",
      "Multi-threaded (8 threads) time: 0.0024 seconds\n",
      "Multi-threaded (10 threads) time: 0.0024 seconds\n",
      "--------------------------------------------------\n",
      "\n",
      "Batch Size: 50\n",
      "Single-threaded time: 0.0161 seconds\n",
      "Multi-threaded (1 threads) time: 0.0144 seconds\n",
      "Multi-threaded (2 threads) time: 0.0143 seconds\n",
      "Multi-threaded (4 threads) time: 0.0143 seconds\n",
      "Multi-threaded (8 threads) time: 0.0142 seconds\n",
      "Multi-threaded (10 threads) time: 0.0142 seconds\n",
      "--------------------------------------------------\n",
      "\n",
      "Batch Size: 100\n",
      "Single-threaded time: 0.0311 seconds\n",
      "Multi-threaded (1 threads) time: 0.0285 seconds\n",
      "Multi-threaded (2 threads) time: 0.0284 seconds\n",
      "Multi-threaded (4 threads) time: 0.0303 seconds\n",
      "Multi-threaded (8 threads) time: 0.0286 seconds\n",
      "Multi-threaded (10 threads) time: 0.0283 seconds\n",
      "--------------------------------------------------\n",
      "\n",
      "Batch Size: 500\n",
      "Single-threaded time: 0.1520 seconds\n",
      "Multi-threaded (1 threads) time: 0.1496 seconds\n",
      "Multi-threaded (2 threads) time: 0.1490 seconds\n",
      "Multi-threaded (4 threads) time: 0.1464 seconds\n",
      "Multi-threaded (8 threads) time: 0.1479 seconds\n",
      "Multi-threaded (10 threads) time: 0.1473 seconds\n",
      "--------------------------------------------------\n",
      "\n",
      "Batch Size: 1000\n",
      "Single-threaded time: 0.6394 seconds\n",
      "Multi-threaded (1 threads) time: 0.3083 seconds\n",
      "Multi-threaded (2 threads) time: 0.2969 seconds\n",
      "Multi-threaded (4 threads) time: 0.2968 seconds\n",
      "Multi-threaded (8 threads) time: 0.3201 seconds\n",
      "Multi-threaded (10 threads) time: 0.2967 seconds\n",
      "--------------------------------------------------\n",
      "\n",
      "Batch Size: 10000\n",
      "Single-threaded time: 101.1551 seconds\n",
      "Multi-threaded (1 threads) time: 98.8646 seconds\n",
      "Multi-threaded (2 threads) time: 90.4003 seconds\n",
      "Multi-threaded (4 threads) time: 97.4749 seconds\n",
      "Multi-threaded (8 threads) time: 95.7037 seconds\n",
      "Multi-threaded (10 threads) time: 95.9298 seconds\n",
      "--------------------------------------------------\n"
     ]
    }
   ],
   "source": [
    "if __name__ == \"__main__\":\n",
    "    run_experiment()"
   ]
  },
  {
   "cell_type": "code",
   "execution_count": null,
   "id": "c8000a4c-b808-4bac-9e7f-b407b0d30d51",
   "metadata": {},
   "outputs": [],
   "source": []
  }
 ],
 "metadata": {
  "kernelspec": {
   "display_name": "Python 3 (ipykernel)",
   "language": "python",
   "name": "python3"
  },
  "language_info": {
   "codemirror_mode": {
    "name": "ipython",
    "version": 3
   },
   "file_extension": ".py",
   "mimetype": "text/x-python",
   "name": "python",
   "nbconvert_exporter": "python",
   "pygments_lexer": "ipython3",
   "version": "3.8.18"
  }
 },
 "nbformat": 4,
 "nbformat_minor": 5
}
