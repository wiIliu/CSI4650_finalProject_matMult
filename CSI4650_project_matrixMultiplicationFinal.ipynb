{
  "nbformat": 4,
  "nbformat_minor": 0,
  "metadata": {
    "colab": {
      "provenance": [],
      "gpuType": "T4"
    },
    "kernelspec": {
      "name": "python3",
      "display_name": "Python 3"
    },
    "language_info": {
      "name": "python"
    },
    "accelerator": "GPU"
  },
  "cells": [
    {
      "cell_type": "code",
      "execution_count": 1,
      "metadata": {
        "id": "L-TiFNmo__sm"
      },
      "outputs": [],
      "source": [
        "import matplotlib.pyplot as plt\n",
        "import torch\n",
        "import time\n",
        "import os\n",
        "import timeit\n",
        "import torch.utils.benchmark as benchmark\n",
        "from itertools import product\n",
        "import psutil"
      ]
    },
    {
      "cell_type": "code",
      "source": [
        "# Finding number of cores and threads for current env.\n",
        "# Find thread range for later matrix multiplication tests.\n",
        "physical_cores = psutil.cpu_count(logical=False)\n",
        "logical_cores = psutil.cpu_count(logical=True)\n",
        "\n",
        "print(f\"Physical cores: {physical_cores}\")\n",
        "print(f\"Logical processors (threads): {logical_cores}\")"
      ],
      "metadata": {
        "colab": {
          "base_uri": "https://localhost:8080/"
        },
        "id": "1pEBggeabEGt",
        "outputId": "1cdcfebf-b186-45dc-8577-9498b6931ad6"
      },
      "execution_count": 2,
      "outputs": [
        {
          "output_type": "stream",
          "name": "stdout",
          "text": [
            "Physical cores: 1\n",
            "Logical processors (threads): 2\n"
          ]
        }
      ]
    },
    {
      "cell_type": "code",
      "source": [
        "### Naive matrix mult algo\n",
        "def naive_mult(A, B):\n",
        "    row_a, col_a = A.shape\n",
        "    _, col_b = B.shape\n",
        "    C = torch.zeros(row_a, col_b, device=A.device)\n",
        "\n",
        "    for i in range(row_a):\n",
        "        for j in range(col_b):\n",
        "            for k in range(col_a):\n",
        "                C[i, j] += A[i, k] * B[k, j]\n",
        "    return C"
      ],
      "metadata": {
        "id": "jaaUBcpwutyo"
      },
      "execution_count": 3,
      "outputs": []
    },
    {
      "cell_type": "markdown",
      "source": [
        "### Matrix generation / tensor generation"
      ],
      "metadata": {
        "id": "0xbpCEED2Cxu"
      }
    },
    {
      "cell_type": "code",
      "source": [
        "device = torch.device(\"cuda\" if torch.cuda.is_available() else \"cpu\")\n",
        "      # CHANGE 'device' VARIBLE FOR EACH TEST\n",
        "# device = torch.device(\"cuda\")\n",
        "# device = torch.device(\"cpu\")\n",
        "print(device)\n",
        "n=1000\n",
        "\n",
        "def generate(size,size2):\n",
        "    array = torch.rand((size, size2),device=device)\n",
        "    return array\n",
        "\n",
        "gpuTimer = benchmark.Timer(\n",
        "    stmt=\"generate(n,n)\",\n",
        "    setup=\"from __main__ import generate\",\n",
        "    globals={'n': n},\n",
        "    num_threads=1,  # Single-threaded for consistent benchmarking\n",
        ")\n",
        "\n",
        "\n",
        "### Using a gpu to generate data is MUCH faster!! more than 6 times faster\n",
        "### generate torch array on cpu averages 6 ms\n",
        "### generate torch array on gpu averages .022 - .025 ms\n",
        "### all tests done for 1 matrix of size 1000x1000"
      ],
      "metadata": {
        "id": "URJshF0c2ByE",
        "colab": {
          "base_uri": "https://localhost:8080/"
        },
        "outputId": "310585cd-ed1e-44c1-a34b-5edf354078a5"
      },
      "execution_count": 4,
      "outputs": [
        {
          "output_type": "stream",
          "name": "stdout",
          "text": [
            "cuda\n"
          ]
        }
      ]
    },
    {
      "cell_type": "code",
      "source": [
        "### for gpu benchmarking in pytorch you HAVE to use this instead of timeit because it accounts for the asynch operations in the gpu.\n",
        "### Timeit will give an inaccurate reading. Usually, the time it gives is the time to enque the specified operations...\n",
        "### NOT the time it takes to actually perform and return the operations.\n",
        "for run in range(5): print(gpuTimer.timeit(n))"
      ],
      "metadata": {
        "id": "9WZdtwiQ2Xi2",
        "outputId": "8e820693-dbb0-43ae-e6e9-d4590bcbcfc4",
        "colab": {
          "base_uri": "https://localhost:8080/"
        }
      },
      "execution_count": null,
      "outputs": [
        {
          "output_type": "stream",
          "name": "stdout",
          "text": [
            "<torch.utils.benchmark.utils.common.Measurement object at 0x7f8c3c1f08b0>\n",
            "generate(n,n)\n",
            "setup: from __main__ import generate\n",
            "  6.65 ms\n",
            "  1 measurement, 1000 runs , 1 thread\n",
            "<torch.utils.benchmark.utils.common.Measurement object at 0x7f8c3c1f3100>\n",
            "generate(n,n)\n",
            "setup: from __main__ import generate\n",
            "  5.61 ms\n",
            "  1 measurement, 1000 runs , 1 thread\n",
            "<torch.utils.benchmark.utils.common.Measurement object at 0x7f8c3c1f31f0>\n",
            "generate(n,n)\n",
            "setup: from __main__ import generate\n",
            "  6.78 ms\n",
            "  1 measurement, 1000 runs , 1 thread\n",
            "<torch.utils.benchmark.utils.common.Measurement object at 0x7f8c3c1f08b0>\n",
            "generate(n,n)\n",
            "setup: from __main__ import generate\n",
            "  5.63 ms\n",
            "  1 measurement, 1000 runs , 1 thread\n",
            "<torch.utils.benchmark.utils.common.Measurement object at 0x7f8c3c1f3eb0>\n",
            "generate(n,n)\n",
            "setup: from __main__ import generate\n",
            "  6.74 ms\n",
            "  1 measurement, 1000 runs , 1 thread\n"
          ]
        }
      ]
    },
    {
      "cell_type": "code",
      "source": [
        "# %timeit -r 3 -n 1000  generate(1000,1000)"
      ],
      "metadata": {
        "id": "dyMS75272Vu1",
        "outputId": "71633298-1047-4989-8744-cbdd151a80bf",
        "colab": {
          "base_uri": "https://localhost:8080/"
        }
      },
      "execution_count": null,
      "outputs": [
        {
          "output_type": "stream",
          "name": "stdout",
          "text": [
            "16.6 µs ± 5.73 µs per loop (mean ± std. dev. of 3 runs, 1000 loops each)\n"
          ]
        }
      ]
    },
    {
      "cell_type": "markdown",
      "source": [
        "#### Large numbered array generation"
      ],
      "metadata": {
        "id": "XdyJajvrINUC"
      }
    },
    {
      "cell_type": "code",
      "source": [
        "low,high = 1000000, 1100000\n",
        "n=1000\n",
        "\n",
        "def generateLargeNumberedMat(low,high,size,size2):\n",
        "    return torch.randint(low,high,(size,size2),device = device)\n",
        "\n",
        "gpuTimer = benchmark.Timer(\n",
        "    stmt=\"generateLargeNumberedMat(low,high,n,n)\",\n",
        "    setup=\"from __main__ import generateLargeNumberedMat\",\n",
        "    globals={'n': n,'low':low,'high':high},\n",
        "    num_threads=1,\n",
        ")\n",
        "\n",
        "# torch.rand already runs faster than torch.randint since there is additional overhead in torch.randint\n",
        "# since it has to generate the discrete integers BEFORE sampling from it. Whereas, in torch.rand, the numbers are already\n",
        "# generated and the method only has to sample from a continuous sample of floats.\n",
        "\n",
        "# 1000 runs 13-14 ms cpu 1000x1000 low 10_000 -> 100_000\n",
        "# 1000 runs 13-15 ms cpu 1000x1000 low 100_000 -> 1_000_000\n",
        "# 1000 runs 13-15 ms cpu 1000x1000 low 1_010_000 -> 1_100_000\n",
        "# 10000 runs .040 ms gpu 1000x1000 low 10_000 -> 100_000\n",
        "# 10000 runs .040 ms gpu 1000x1000 low 100_000 -> 1_000_000\n",
        "# 10000 runs .040 ms gpu 1000x1000 low 1_010_000 -> 1_100_000"
      ],
      "metadata": {
        "id": "1d4gnwPMIPyf"
      },
      "execution_count": 21,
      "outputs": []
    },
    {
      "cell_type": "code",
      "source": [
        "for run in range(5): print(gpuTimer.timeit(n))"
      ],
      "metadata": {
        "id": "9mUtaSWgIfF7",
        "colab": {
          "base_uri": "https://localhost:8080/"
        },
        "outputId": "1df49d70-f95c-44ff-b772-52757132347a"
      },
      "execution_count": null,
      "outputs": [
        {
          "output_type": "stream",
          "name": "stdout",
          "text": [
            "<torch.utils.benchmark.utils.common.Measurement object at 0x7f8c3c1f1de0>\n",
            "generateLargeNumberedMat(low,high,n,n)\n",
            "setup: from __main__ import generateLargeNumberedMat\n",
            "  13.64 ms\n",
            "  1 measurement, 1000 runs , 1 thread\n",
            "<torch.utils.benchmark.utils.common.Measurement object at 0x7f8c3c1f2f20>\n",
            "generateLargeNumberedMat(low,high,n,n)\n",
            "setup: from __main__ import generateLargeNumberedMat\n",
            "  13.65 ms\n",
            "  1 measurement, 1000 runs , 1 thread\n",
            "<torch.utils.benchmark.utils.common.Measurement object at 0x7f8c3c1f0580>\n",
            "generateLargeNumberedMat(low,high,n,n)\n",
            "setup: from __main__ import generateLargeNumberedMat\n",
            "  13.61 ms\n",
            "  1 measurement, 1000 runs , 1 thread\n",
            "<torch.utils.benchmark.utils.common.Measurement object at 0x7f8c3c1f3760>\n",
            "generateLargeNumberedMat(low,high,n,n)\n",
            "setup: from __main__ import generateLargeNumberedMat\n",
            "  13.69 ms\n",
            "  1 measurement, 1000 runs , 1 thread\n",
            "<torch.utils.benchmark.utils.common.Measurement object at 0x7f8c3c1f0580>\n",
            "generateLargeNumberedMat(low,high,n,n)\n",
            "setup: from __main__ import generateLargeNumberedMat\n",
            "  14.30 ms\n",
            "  1 measurement, 1000 runs , 1 thread\n"
          ]
        }
      ]
    },
    {
      "cell_type": "markdown",
      "source": [
        "---\n",
        "\n",
        "### Moving tensors"
      ],
      "metadata": {
        "id": "3SiRd-g9FGU7"
      }
    },
    {
      "cell_type": "code",
      "source": [
        "# moving tensor from cpu to gpu and vice versa\n",
        "# you can also generate the tensor directly on the cpu or gpu which is timed in 'generate'\n",
        "\n",
        "\n",
        "dev = 'cpu'           # CHANGE THIS VAR TO 'cuda'/'cpu' FOR TESTING\n",
        "print(\"destination device\",dev)\n",
        "arr = generate(n,n)\n",
        "print(\"starting device\",arr.device)\n",
        "\n",
        "def move(array,device):\n",
        "    return array.to(device)\n",
        "\n",
        "gpuTimer = benchmark.Timer(\n",
        "    stmt=\"move(arr,dev)\",\n",
        "    setup=\"from __main__ import move\",\n",
        "    globals={'arr': arr, 'dev': dev},\n",
        "    num_threads=1,\n",
        ")\n",
        "\n",
        "# 1000 loops for 5 runs averaged .88 ms 1000x1000 from cpu to gpu\n",
        "# 1000 loops for 5 runs averaged 1 ms 1000x1000 from gpu to cpu"
      ],
      "metadata": {
        "id": "KbftIab-FIo3",
        "colab": {
          "base_uri": "https://localhost:8080/"
        },
        "outputId": "778021e5-e10c-41c7-c786-d53c43bbb023"
      },
      "execution_count": 40,
      "outputs": [
        {
          "output_type": "stream",
          "name": "stdout",
          "text": [
            "destination device cpu\n",
            "starting device cuda:0\n"
          ]
        }
      ]
    },
    {
      "cell_type": "code",
      "source": [
        "for run in range(5): print(gpuTimer.timeit(n))"
      ],
      "metadata": {
        "id": "Mc2zN14iFJtD",
        "colab": {
          "base_uri": "https://localhost:8080/"
        },
        "outputId": "83d96ecf-198f-4643-e40b-055c0a78853f"
      },
      "execution_count": 42,
      "outputs": [
        {
          "output_type": "stream",
          "name": "stdout",
          "text": [
            "<torch.utils.benchmark.utils.common.Measurement object at 0x7dd5963f7c40>\n",
            "move(arr,dev)\n",
            "setup: from __main__ import move\n",
            "  1.04 ms\n",
            "  1 measurement, 1024 runs , 1 thread\n",
            "<torch.utils.benchmark.utils.common.Measurement object at 0x7dd59623a470>\n",
            "move(arr,dev)\n",
            "setup: from __main__ import move\n",
            "  938.74 us\n",
            "  1 measurement, 1024 runs , 1 thread\n",
            "<torch.utils.benchmark.utils.common.Measurement object at 0x7dd5a4326080>\n",
            "move(arr,dev)\n",
            "setup: from __main__ import move\n",
            "  937.39 us\n",
            "  1 measurement, 1024 runs , 1 thread\n",
            "<torch.utils.benchmark.utils.common.Measurement object at 0x7dd59623a470>\n",
            "move(arr,dev)\n",
            "setup: from __main__ import move\n",
            "  943.36 us\n",
            "  1 measurement, 1024 runs , 1 thread\n",
            "<torch.utils.benchmark.utils.common.Measurement object at 0x7dd596276f50>\n",
            "move(arr,dev)\n",
            "setup: from __main__ import move\n",
            "  1.79 ms\n",
            "  1 measurement, 1024 runs , 1 thread\n"
          ]
        }
      ]
    },
    {
      "cell_type": "markdown",
      "source": [
        "---\n",
        "\n",
        "### Matrix multiplication"
      ],
      "metadata": {
        "id": "9_q8k0htGrhW"
      }
    },
    {
      "cell_type": "code",
      "source": [
        "mat1 = generate(1000,1000)\n",
        "mat2 = generate(1000,1000)\n",
        "# mat1 = generateLargeNumberedMat(low,high,n,n)\n",
        "# mat2 = generateLargeNumberedMat(low,high,n,n)"
      ],
      "metadata": {
        "id": "P1AB6cvQGmeI"
      },
      "execution_count": 8,
      "outputs": []
    },
    {
      "cell_type": "code",
      "source": [
        "def mult(A,B): #utilizes broadcasting\n",
        "    resultMat = (A[:, :, None] * B[None, :, :]).sum(dim=1)\n",
        "    return resultMat\n",
        "\n",
        "gpuTimer = benchmark.Timer(\n",
        "    stmt=\"mult(mat1,mat2)\",\n",
        "    setup=\"from __main__ import mult\",\n",
        "    globals={'mat1': mat1,\n",
        "             'mat2':mat2},\n",
        "    num_threads=1,\n",
        ")\n",
        "  # torch gpu at 1000x1000 matrix with 1000 loops --> 49 ms\n",
        "  # torch cpu at 1000x1000 matrix with 100 loops --> 3.1 sec  (mult)\n",
        "  # torch cpu at 1000x1000 matrix with 100 loops large numbers --> 8.1 sec\n",
        "  # torch gpu at 1000x1000 matrix with 100 loops large numbers --> 49.5 ms"
      ],
      "metadata": {
        "id": "5wVzEiijGpcQ"
      },
      "execution_count": 9,
      "outputs": []
    },
    {
      "cell_type": "code",
      "source": [
        "assert torch.allclose(torch.matmul(mat1,mat2), mult(mat1,mat2))"
      ],
      "metadata": {
        "id": "c8l4thGFIFTe"
      },
      "execution_count": null,
      "outputs": []
    },
    {
      "cell_type": "code",
      "source": [
        "for run in range(5): print(gpuTimer.timeit(100))"
      ],
      "metadata": {
        "id": "pqr0EhsJkRDX",
        "colab": {
          "base_uri": "https://localhost:8080/"
        },
        "outputId": "1418de1c-8de6-440f-d6e0-04bc1572306a"
      },
      "execution_count": null,
      "outputs": [
        {
          "output_type": "stream",
          "name": "stdout",
          "text": [
            "<torch.utils.benchmark.utils.common.Measurement object at 0x798e46f6d570>\n",
            "mult(mat1,mat2)\n",
            "setup: from __main__ import mult\n",
            "  49.55 ms\n",
            "  1 measurement, 1000 runs , 1 thread\n",
            "<torch.utils.benchmark.utils.common.Measurement object at 0x798e46f6f520>\n",
            "mult(mat1,mat2)\n",
            "setup: from __main__ import mult\n",
            "  49.56 ms\n",
            "  1 measurement, 1000 runs , 1 thread\n",
            "<torch.utils.benchmark.utils.common.Measurement object at 0x798e46f6d300>\n",
            "mult(mat1,mat2)\n",
            "setup: from __main__ import mult\n",
            "  49.55 ms\n",
            "  1 measurement, 1000 runs , 1 thread\n",
            "<torch.utils.benchmark.utils.common.Measurement object at 0x798e46f6ddb0>\n",
            "mult(mat1,mat2)\n",
            "setup: from __main__ import mult\n",
            "  49.56 ms\n",
            "  1 measurement, 1000 runs , 1 thread\n",
            "<torch.utils.benchmark.utils.common.Measurement object at 0x798e46f6fd00>\n",
            "mult(mat1,mat2)\n",
            "setup: from __main__ import mult\n",
            "  49.56 ms\n",
            "  1 measurement, 1000 runs , 1 thread\n"
          ]
        }
      ]
    },
    {
      "cell_type": "code",
      "source": [
        "# Comparing a list of increasing matrix sizes and comparing\n",
        "# Includes both square and non-square matrices\n",
        "results = []\n",
        "\n",
        "sizes = [1,64,256,1024]\n",
        "for b, n in product(sizes, sizes): # Loop over matrix sizes\n",
        "    label = 'mat mult'\n",
        "    sub_label = f'[{b}, {n}]'\n",
        "\n",
        "    # Generate tensors                                  # UNCOMMENT/COMMENT OUT ONE PAIR OF X/Y GENERATION STMTS FOR LARGE-NUM MATRIX TEST VS OG TEST\n",
        "    # x = torch.rand((b,n),device='cuda')\n",
        "    # y = x.to('cpu')\n",
        "    x = torch.randint(low,high,(b,n),device='cuda')\n",
        "    y = x.to('cpu')\n",
        "\n",
        "    # GPU\n",
        "    results.append(benchmark.Timer(\n",
        "        stmt='mult(x, x.T)',\n",
        "        setup='from __main__ import mult',\n",
        "        globals={'x': x},\n",
        "        label=label,\n",
        "        sub_label=sub_label,\n",
        "        description='gpu',\n",
        "    ).blocked_autorange(min_run_time=1))\n",
        "    # Multi-threaded Broadcast CPU\n",
        "    results.append(benchmark.Timer(\n",
        "        stmt='mult(y, y.T)',\n",
        "        setup='from __main__ import mult',\n",
        "        globals={'y': y},\n",
        "        label=label,\n",
        "        sub_label=sub_label,\n",
        "        num_threads=2,\n",
        "        description='cpu multi-threaded',\n",
        "    ).blocked_autorange(min_run_time=1))\n",
        "    # Single-threaded Broadcast CPU\n",
        "    results.append(benchmark.Timer(\n",
        "        stmt='mult(y, y.T)',\n",
        "        setup='from __main__ import mult',\n",
        "        globals={'y': y},\n",
        "        label=label,\n",
        "        sub_label=sub_label,\n",
        "        num_threads=1,\n",
        "        description='cpu single-threaded',\n",
        "    ).blocked_autorange(min_run_time=1))\n",
        "    # Naive Single Threaded\n",
        "    if(b*n <= 64*64): # Have to perform this check since it runs WAY too slow on larger arrays\n",
        "      results.append(benchmark.Timer(\n",
        "        stmt='naive_mult(y, y.T)',\n",
        "        setup='from __main__ import naive_mult',\n",
        "        globals={'y': y},\n",
        "        label=label,\n",
        "        sub_label=sub_label,\n",
        "        num_threads=1,\n",
        "        description='cpu naive',\n",
        "      ).blocked_autorange(min_run_time=1))\n",
        "\n",
        "compare = benchmark.Compare(results)\n",
        "compare.print()"
      ],
      "metadata": {
        "id": "2F8do23QBCGJ",
        "colab": {
          "base_uri": "https://localhost:8080/"
        },
        "outputId": "0b9f04cf-b4eb-4ea5-a63c-53d55e67542e"
      },
      "execution_count": 22,
      "outputs": [
        {
          "output_type": "stream",
          "name": "stdout",
          "text": [
            "[----------------------------------------- mat mult ----------------------------------------]\n",
            "                    |    gpu     |  cpu multi-threaded  |  cpu single-threaded  |  cpu naive \n",
            "1 threads: ----------------------------------------------------------------------------------\n",
            "      [1, 1]        |      35.0  |                      |            19.1       |        30.4\n",
            "      [1, 64]       |      50.4  |                      |            19.5       |      1402.7\n",
            "      [1, 256]      |      35.1  |                      |            19.7       |      5753.5\n",
            "      [1, 1024]     |      36.0  |                      |            20.5       |     22157.5\n",
            "      [64, 1]       |      35.9  |                      |            29.2       |     92158.9\n",
            "      [64, 64]      |      37.0  |                      |           418.5       |   6667279.6\n",
            "      [64, 256]     |      78.2  |                      |          1562.5       |            \n",
            "      [64, 1024]    |     271.9  |                      |         20122.7       |            \n",
            "      [256, 1]      |      49.3  |                      |           161.6       |   1480915.8\n",
            "      [256, 64]     |     283.0  |                      |         21943.7       |            \n",
            "      [256, 256]    |    1061.7  |                      |        102066.6       |            \n",
            "      [256, 1024]   |    6075.1  |                      |        410176.1       |            \n",
            "      [1024, 1]     |     137.9  |                      |          2440.1       |  25936278.1\n",
            "      [1024, 64]    |    4344.9  |                      |        403455.9       |            \n",
            "      [1024, 256]   |   24331.2  |                      |       1923841.0       |            \n",
            "      [1024, 1024]  |  102230.4  |                      |       6876633.1       |            \n",
            "2 threads: ----------------------------------------------------------------------------------\n",
            "      [1, 1]        |            |           19.2       |                       |            \n",
            "      [1, 64]       |            |           31.7       |                       |            \n",
            "      [1, 256]      |            |           19.9       |                       |            \n",
            "      [1, 1024]     |            |           32.9       |                       |            \n",
            "      [64, 1]       |            |           29.2       |                       |            \n",
            "      [64, 64]      |            |         1734.0       |                       |            \n",
            "      [64, 256]     |            |         1522.9       |                       |            \n",
            "      [64, 1024]    |            |        18121.5       |                       |            \n",
            "      [256, 1]      |            |          376.5       |                       |            \n",
            "      [256, 64]     |            |        18911.4       |                       |            \n",
            "      [256, 256]    |            |       142157.0       |                       |            \n",
            "      [256, 1024]   |            |       326926.9       |                       |            \n",
            "      [1024, 1]     |            |         2266.1       |                       |            \n",
            "      [1024, 64]    |            |       320665.5       |                       |            \n",
            "      [1024, 256]   |            |      1265471.0       |                       |            \n",
            "      [1024, 1024]  |            |      5647542.1       |                       |            \n",
            "\n",
            "Times are in microseconds (us).\n",
            "\n"
          ]
        }
      ]
    },
    {
      "cell_type": "code",
      "source": [
        "# Generate trend-line plot to show efficiency differences between cpu and gpu methods\n",
        "\n",
        "gpupts = []\n",
        "cpuparallelpts = []\n",
        "cpusinglepts = []\n",
        "naivepts = []\n",
        "\n",
        "x = list(product(sizes,sizes))\n",
        "x_labels = [f\"[{n[0]}, {n[1]}]\" for n in x]\n",
        "x_indices = list(range(len(x[11:])))\n",
        "\n",
        "j = 0\n",
        "for r in results:\n",
        "  if(r.description == 'gpu'):\n",
        "    gpupts.append((r.description,x[j],r.mean))\n",
        "  elif(r.description == 'cpu multi-threaded'):\n",
        "    cpuparallelpts.append((r.description,x[j],r.mean))\n",
        "  elif(r.description == 'cpu single-threaded'):\n",
        "    cpusinglepts.append((r.description,x[j],r.mean))\n",
        "    j+=1\n",
        "\n",
        "gpupts = sorted(gpupts, key=lambda x: x[1][0]*x[1][1])[11:]\n",
        "cpuparallelpts = sorted(cpuparallelpts, key=lambda x: x[1][0]*x[1][1])[11:]\n",
        "cpusinglepts = sorted(cpusinglepts, key=lambda x: x[1][0]*x[1][1])[11:]\n",
        "x = x[11:]\n",
        "x_labels = x_labels[11:]\n",
        "\n",
        "plt.figure(figsize=(10, 6))\n",
        "\n",
        "plt.scatter(list(range(len(x))),[x[2] for x in cpuparallelpts],label=\"Cpu (Parallel)\")\n",
        "plt.plot(list(range(len(x))),[x[2] for x in cpuparallelpts],linestyle='dashdot',)\n",
        "plt.scatter(list(range(len(x))),[x[2] for x in cpusinglepts],label=\"Cpu (Single Threaded)\")\n",
        "plt.plot(list(range(len(x))),[x[2] for x in cpusinglepts],linestyle='dotted',)\n",
        "plt.scatter(list(range(len(x))),[x[2] for x in gpupts],label=\"Gpu\")\n",
        "plt.plot(list(range(len(x))),[x[2] for x in gpupts],linestyle='dashed',)\n",
        "\n",
        "plt.xlabel(\"Matrix Size\")\n",
        "plt.ylabel(\"Time (us)\")\n",
        "plt.legend()\n",
        "plt.xticks(ticks=x_indices, labels=x_labels, rotation=45, ha='right')\n",
        "plt.show()"
      ],
      "metadata": {
        "colab": {
          "base_uri": "https://localhost:8080/",
          "height": 601
        },
        "id": "05b2NAkToEOs",
        "outputId": "177dcf63-d7fe-46c0-9262-63c0bc711569"
      },
      "execution_count": 23,
      "outputs": [
        {
          "output_type": "display_data",
          "data": {
            "text/plain": [
              "<Figure size 1000x600 with 1 Axes>"
            ],
            "image/png": "[encoded data removed]"
          },
          "metadata": {}
        }
      ]
    },
    {
      "cell_type": "markdown",
      "source": [
        "---\n",
        "\n",
        "### Batch Matrix Multiplication"
      ],
      "metadata": {
        "id": "ijrGyuKuB45m"
      }
    },
    {
      "cell_type": "code",
      "source": [
        "def batch_generate(batch_size, size,size2,device):\n",
        "    array = torch.rand(batch_size,size, size2, device=device)\n",
        "    return array"
      ],
      "metadata": {
        "id": "_HiuXldUkUTe"
      },
      "execution_count": 43,
      "outputs": []
    },
    {
      "cell_type": "code",
      "source": [
        "### Batch naive matrix multiplication\n",
        "def batch_naive_mult(A, B):\n",
        "    batch_size, row_a, col_a = A.shape\n",
        "    _, _, col_b = B.shape\n",
        "\n",
        "    C = torch.zeros(batch_size, row_a, col_b, device=A.device)\n",
        "    # loop through each batch\n",
        "    for b in range(batch_size):\n",
        "      for i in range(row_a):\n",
        "          for j in range(col_b):\n",
        "              for k in range(col_a):\n",
        "                    C[b, i, j] += A[b, i, k] * B[b, k, j]\n",
        "    return C"
      ],
      "metadata": {
        "id": "Mg55oVljfXNB"
      },
      "execution_count": 44,
      "outputs": []
    },
    {
      "cell_type": "code",
      "source": [
        "### batch parallelized mult\n",
        "def broadcastBatchMult(A, B):\n",
        "    resultMat = (A[:, :, :, None] * B[:, None, :, :]).sum(dim=2)\n",
        "    return resultMat"
      ],
      "metadata": {
        "id": "piYjiJHbJa8m"
      },
      "execution_count": 45,
      "outputs": []
    },
    {
      "cell_type": "code",
      "source": [
        "### function for n-threaded matrix multiplication\n",
        "def threaded_matmul(A,B,num_threads):\n",
        "    torch.set_num_threads(num_threads)\n",
        "    C = batch_naive_mult(A, B)\n",
        "    return C"
      ],
      "metadata": {
        "id": "gYMlW7SkJkey"
      },
      "execution_count": 46,
      "outputs": []
    },
    {
      "cell_type": "code",
      "source": [
        "array = batch_generate(10,32,32,'cpu')\n",
        "array2 = batch_generate(10,32,32,'cpu')\n",
        "assert torch.allclose(torch.bmm(array, array2), broadcastBatchMult(array,array2))\n",
        "assert torch.allclose(torch.bmm(array, array2), threaded_matmul(array,array2,2))"
      ],
      "metadata": {
        "id": "puqe5p5LJgMF"
      },
      "execution_count": 47,
      "outputs": []
    },
    {
      "cell_type": "code",
      "source": [
        "batch_sizes = [1, 10, 50, 100, 500]\n",
        "matrix_size = 64\n",
        "num_threads_list = [1,2]\n",
        "results = []\n",
        "for batch_size in batch_sizes: # Loop over batch sizes\n",
        "    label = 'batch mat mult'\n",
        "    sub_label = f'[{batch_size}]'\n",
        "    # Generate tensors\n",
        "    cpu_array = batch_generate(batch_size, matrix_size, matrix_size,'cpu')\n",
        "    gpu_array = cpu_array.to('cuda')\n",
        "\n",
        "    for thread_num in num_threads_list: # Loop over thread count\n",
        "      # GPU\n",
        "      results.append(benchmark.Timer(\n",
        "          stmt='broadcastBatchMult(gpu_array, gpu_array)',\n",
        "          setup='from __main__ import broadcastBatchMult',\n",
        "          globals={'gpu_array': gpu_array},\n",
        "          label=label,\n",
        "          sub_label=sub_label,\n",
        "          description='gpu batch',\n",
        "          num_threads=thread_num\n",
        "      ).blocked_autorange(min_run_time=1))\n",
        "      # Broadcast CPU\n",
        "      results.append(benchmark.Timer(\n",
        "          stmt='broadcastBatchMult(cpu_array, cpu_array)',\n",
        "          setup='from __main__ import broadcastBatchMult',\n",
        "          globals={'cpu_array': cpu_array},\n",
        "          label=label,\n",
        "          sub_label=sub_label,\n",
        "          description='cpu broadcast batch',\n",
        "          num_threads=thread_num\n",
        "      ).blocked_autorange(min_run_time=1))\n",
        "      # Naive CPU\n",
        "      if(batch_size <= 10):\n",
        "        results.append(benchmark.Timer(\n",
        "            stmt='threaded_matmul(cpu_array, cpu_array,thread_num)',\n",
        "            setup='from __main__ import threaded_matmul',\n",
        "            globals={'cpu_array': cpu_array,'thread_num':thread_num},\n",
        "            label=label,\n",
        "            sub_label=sub_label,\n",
        "            description='cpu naive batch',\n",
        "            num_threads=thread_num\n",
        "        ).blocked_autorange(min_run_time=1))\n",
        "\n",
        "compare = benchmark.Compare(results)\n",
        "compare.print()"
      ],
      "metadata": {
        "id": "qij-pRMAJkoo",
        "colab": {
          "base_uri": "https://localhost:8080/"
        },
        "outputId": "badaad1b-da73-4c12-d503-e0c3291537aa"
      },
      "execution_count": 48,
      "outputs": [
        {
          "output_type": "stream",
          "name": "stdout",
          "text": [
            "[-------------------------- batch mat mult -------------------------]\n",
            "             |  gpu batch  |  cpu broadcast batch  |  cpu naive batch\n",
            "1 threads: ----------------------------------------------------------\n",
            "      [1]    |      37.7   |           155.5       |      7781998.1  \n",
            "      [10]   |      98.6   |          1200.3       |     70546798.4  \n",
            "      [50]   |     450.7   |         32330.0       |                 \n",
            "      [100]  |     906.9   |         73129.6       |                 \n",
            "      [500]  |    4461.7   |        354997.7       |                 \n",
            "2 threads: ----------------------------------------------------------\n",
            "      [1]    |      37.7   |           120.2       |      7298588.8  \n",
            "      [10]   |      98.7   |          1040.4       |     70486696.6  \n",
            "      [50]   |     460.0   |         25708.0       |                 \n",
            "      [100]  |     909.1   |         62039.2       |                 \n",
            "      [500]  |    4506.5   |        282526.4       |                 \n",
            "\n",
            "Times are in microseconds (us).\n",
            "\n"
          ]
        }
      ]
    }
  ]
}